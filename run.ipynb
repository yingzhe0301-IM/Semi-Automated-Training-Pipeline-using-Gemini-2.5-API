{
 "cells": [
  {
   "metadata": {},
   "cell_type": "code",
   "source": [
    "# Install latest Google GenAI SDK and Pillow\n",
    "!pip install --upgrade google-genai pillow"
   ],
   "id": "93a286d65d645fc0",
   "outputs": [],
   "execution_count": null
  },
  {
   "metadata": {
    "ExecuteTime": {
     "end_time": "2025-08-08T18:24:26.311153Z",
     "start_time": "2025-08-08T18:24:26.308535Z"
    }
   },
   "cell_type": "code",
   "source": [
    "# Check that a Gemini API key is available before running the batch script.\n",
    "import os\n",
    "\n",
    "api_key = os.getenv(\"GOOGLE_API_KEY\") or os.getenv(\"GEMINI_API_KEY\")\n",
    "if not api_key:\n",
    "    raise RuntimeError(\n",
    "        \"No API key found. Set the environment variable GOOGLE_API_KEY \"\n",
    "        \"or GEMINI_API_KEY before making requests.\"\n",
    "    )\n",
    "print(\"✓ API key detected.\")\n"
   ],
   "id": "4cf9978f5804cdc0",
   "outputs": [
    {
     "name": "stdout",
     "output_type": "stream",
     "text": [
      "✓ API key detected.\n"
     ]
    }
   ],
   "execution_count": 1
  },
  {
   "metadata": {},
   "cell_type": "code",
   "source": [
    "# Execute the fish‑detection script\n",
    "!python gemini.py"
   ],
   "id": "2f5293c70f1919be",
   "outputs": [],
   "execution_count": null
  }
 ],
 "metadata": {
  "kernelspec": {
   "name": "python3",
   "language": "python",
   "display_name": "Python 3 (ipykernel)"
  }
 },
 "nbformat": 4,
 "nbformat_minor": 5
}
